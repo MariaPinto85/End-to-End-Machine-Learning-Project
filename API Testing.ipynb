{
 "cells": [
  {
   "cell_type": "markdown",
   "id": "a09efd60-715b-408e-8fca-9a66c4d6ca67",
   "metadata": {},
   "source": [
    "# API Testing "
   ]
  },
  {
   "cell_type": "markdown",
   "id": "73e190dc-6939-4619-adb4-e37ee210b9b5",
   "metadata": {},
   "source": [
    "This notebook tests the Flask API endpoint serving predictions from the trained Gradient Boosting model. It ensures that the deployed model can handle real-world inputs and provide reliable responses. The tests include both valid and invalid scenarios to assess the robustness and reliability of the application."
   ]
  },
  {
   "cell_type": "markdown",
   "id": "b98a9c8f-fd87-493d-8300-ae2c5155ea09",
   "metadata": {},
   "source": [
    "#### Single API Request Test\n",
    "\n",
    "Purpose: Verify the basic functionality of the Flask endpoint.\n",
    "\n",
    "This test sends a valid set of features to the API and verifies the response structure, including the predicted class and probabilities."
   ]
  },
  {
   "cell_type": "code",
   "execution_count": 2,
   "id": "b9f928a4-a018-4984-acee-904151ad1d6e",
   "metadata": {},
   "outputs": [
    {
     "name": "stdout",
     "output_type": "stream",
     "text": [
      "Prediction Response:\n",
      "{'prediction': [0], 'probabilities': [[0.999999521738317, 4.782616830579273e-07]]}\n"
     ]
    }
   ],
   "source": [
    "import requests\n",
    "import json\n",
    "\n",
    "# Define the URL of your Flask application\n",
    "url = \"http://127.0.0.1:5000/predict\"\n",
    "\n",
    "# Prepare the input data (replace with appropriate feature values)\n",
    "data = {\n",
    "    \"features\": [0.5, 1.2, 3.1, 4.2]  # Replace with our test data\n",
    "}\n",
    "\n",
    "# Send the POST request\n",
    "response = requests.post(url, json=data)\n",
    "\n",
    "# Print the response\n",
    "if response.status_code == 200:\n",
    "    print(\"Prediction Response:\")\n",
    "    print(response.json())\n",
    "else:\n",
    "    print(f\"Error {response.status_code}: {response.text}\")\n"
   ]
  },
  {
   "cell_type": "markdown",
   "id": "d97784e0-00fb-4a0e-a308-ff2a5f50bc68",
   "metadata": {},
   "source": [
    "#### Edge Case Testing\n",
    "Purpose: Test the API's behavior with edge cases and invalid inputs\n",
    "\n",
    "The edge case tests simulate real-world scenarios, including valid inputs, out-of-range values, and common user errors. This ensures the API gracefully handles unexpected inputs by returning meaningful error messages."
   ]
  },
  {
   "cell_type": "code",
   "execution_count": 3,
   "id": "e2a29f47-8b2b-4963-9058-2ce06c2b3b1d",
   "metadata": {},
   "outputs": [
    {
     "name": "stdout",
     "output_type": "stream",
     "text": [
      "\n",
      "Test Case 1: Input: {'features': [0.5, 1.2, 3.1, 4.2]}\n",
      "Response: {'prediction': [0], 'probabilities': [[0.999999521738317, 4.782616830579273e-07]]}\n",
      "\n",
      "Test Case 2: Input: {'features': [0.0, 0.0, 0.0, 0.0]}\n",
      "Response: {'prediction': [0], 'probabilities': [[0.9999996833732483, 3.1662675170053136e-07]]}\n",
      "\n",
      "Test Case 3: Input: {'features': [100, 200, 300, 400]}\n",
      "Response: {'prediction': [1], 'probabilities': [[6.890476731091777e-05, 0.9999310952326891]]}\n",
      "\n",
      "Test Case 4: Input: {'features': [-1, -2, -3, -4]}\n",
      "Response: {'prediction': [0], 'probabilities': [[0.9999996833732483, 3.1662675170053136e-07]]}\n",
      "\n",
      "Test Case 5: Input: {'features': []}\n",
      "Error 400: {\n",
      "  \"error\": \"Model expects 4 features, but received 0.\"\n",
      "}\n",
      "\n",
      "\n",
      "Test Case 6: Input: {'features': [0.5, 'invalid', 3.1, 4.2]}\n",
      "Error 500: {\n",
      "  \"error\": \"An error occurred: could not convert string to float: np.str_('invalid')\"\n",
      "}\n",
      "\n",
      "\n",
      "Test Case 7: Input: {}\n",
      "Error 400: {\n",
      "  \"error\": \"Invalid input! Please include 'features' in the request JSON.\"\n",
      "}\n",
      "\n",
      "\n",
      "Test Case 8: Input: {'features': [0.5, 1.2]}\n",
      "Error 400: {\n",
      "  \"error\": \"Model expects 4 features, but received 2.\"\n",
      "}\n",
      "\n"
     ]
    }
   ],
   "source": [
    "import requests\n",
    "import json\n",
    "\n",
    "# Define the URL of your Flask application\n",
    "url = \"http://127.0.0.1:5000/predict\"\n",
    "\n",
    "# Define test cases\n",
    "test_cases = [\n",
    "    {\"features\": [0.5, 1.2, 3.1, 4.2]},  # Normal input\n",
    "    {\"features\": [0.0, 0.0, 0.0, 0.0]},  # Edge case: all zeros\n",
    "    {\"features\": [100, 200, 300, 400]},  # Edge case: large values\n",
    "    {\"features\": [-1, -2, -3, -4]},      # Edge case: negative values\n",
    "    {\"features\": []},                    # Invalid case: empty list\n",
    "    {\"features\": [0.5, \"invalid\", 3.1, 4.2]},  # Invalid case: string in features\n",
    "    {},                                  # Invalid case: missing 'features' key\n",
    "    {\"features\": [0.5, 1.2]},            # Invalid case: fewer features\n",
    "]\n",
    "\n",
    "# Function to test the endpoint\n",
    "def test_endpoint(test_cases):\n",
    "    for i, case in enumerate(test_cases):\n",
    "        print(f\"\\nTest Case {i+1}: Input: {case}\")\n",
    "        try:\n",
    "            response = requests.post(url, json=case)\n",
    "            if response.status_code == 200:\n",
    "                print(\"Response:\", response.json())\n",
    "            else:\n",
    "                print(f\"Error {response.status_code}: {response.text}\")\n",
    "        except Exception as e:\n",
    "            print(f\"Exception occurred: {e}\")\n",
    "\n",
    "# Run the test cases\n",
    "test_endpoint(test_cases)\n"
   ]
  },
  {
   "cell_type": "markdown",
   "id": "b8fa0cb1-da41-48dd-a826-f7524e290d26",
   "metadata": {},
   "source": [
    "#### Observations and Insights\n",
    "\n",
    "\n",
    "- The API successfully processed valid inputs, returning the predicted class and probabilities as expected.\n",
    "- For invalid inputs (e.g., missing features, incorrect data types), the API returned appropriate error messages, indicating robust error handling.\n",
    "- Edge cases with extreme or invalid values exposed potential limitations or edge scenarios the application should address."
   ]
  },
  {
   "cell_type": "markdown",
   "id": "c5e0215e-1a3f-4680-a905-1e67cf8f42d9",
   "metadata": {},
   "source": [
    "##  Conclusion\n",
    "\n",
    "This testing phase confirms that the API can reliably serve predictions and handle both typical and edge-case scenarios. It lays the groundwork for deploying the application in a real-world environment where robustness and reliability are critical."
   ]
  },
  {
   "cell_type": "code",
   "execution_count": null,
   "id": "dfcc2e50-b75e-4ae1-95be-376699d3e72d",
   "metadata": {},
   "outputs": [],
   "source": []
  }
 ],
 "metadata": {
  "kernelspec": {
   "display_name": "Python 3 (ipykernel)",
   "language": "python",
   "name": "python3"
  },
  "language_info": {
   "codemirror_mode": {
    "name": "ipython",
    "version": 3
   },
   "file_extension": ".py",
   "mimetype": "text/x-python",
   "name": "python",
   "nbconvert_exporter": "python",
   "pygments_lexer": "ipython3",
   "version": "3.11.11"
  }
 },
 "nbformat": 4,
 "nbformat_minor": 5
}
